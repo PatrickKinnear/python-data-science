{
 "cells": [
  {
   "cell_type": "markdown",
   "metadata": {},
   "source": [
    "# Notebook 6 - Plotting\n",
    "\n",
    "Making informative plots is one of the most important tasks in data analysis. It may be a part of the exploratory process or as a way of generating ideas for models. Python has many add-on libraries for making static or dynamic visualisations. However, in this notebook we will focus mainly on [matplotlib](https://matplotlib.org/)\n",
    "\n",
    "matplotlib is a desktop plotting package designed for creating plots. It supports various GUI backends on all operating systems and additionally can export visualisations to all of the common vector and graphics formats (PDF, SVG, JPG, PNG, BMP and more). Over time, matplotlib has spawned a number of add-on toolkits. One of these is [seaborn](https://seaborn.pydata.org/) which we will also explore in this notebook.\n",
    "\n",
    "Importing matplotlib is shown below. Note that for it to work interactively with Jupyter Notebooks, you must also add the magic command starting with `%` shown below:"
   ]
  },
  {
   "cell_type": "code",
   "execution_count": 1,
   "metadata": {},
   "outputs": [],
   "source": [
    "import matplotlib.pyplot as plt\n",
    "%matplotlib notebook"
   ]
  },
  {
   "cell_type": "code",
   "execution_count": null,
   "metadata": {},
   "outputs": [],
   "source": []
  }
 ],
 "metadata": {
  "kernelspec": {
   "display_name": "Python 3",
   "language": "python",
   "name": "python3"
  },
  "language_info": {
   "codemirror_mode": {
    "name": "ipython",
    "version": 3
   },
   "file_extension": ".py",
   "mimetype": "text/x-python",
   "name": "python",
   "nbconvert_exporter": "python",
   "pygments_lexer": "ipython3",
   "version": "3.6.6"
  }
 },
 "nbformat": 4,
 "nbformat_minor": 2
}
